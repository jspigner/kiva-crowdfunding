{
 "cells": [
  {
   "cell_type": "markdown",
   "id": "manual-tiffany",
   "metadata": {},
   "source": [
    "## Kiva: Machine Learning - Regression Analysis:  \n",
    "<b><br>\n",
    "This script contains the following: <br>\n",
    "1. Importing libraries and data <br>\n",
    "2. Data cleaning<br>\n",
    "3. Data prep for regression analysis <br>\n",
    "4. Regression analysis <br>\n",
    "5. Results\n",
    "</b>"
   ]
  },
  {
   "cell_type": "markdown",
   "id": "scheduled-revolution",
   "metadata": {},
   "source": [
    "## 1. Importing libraries and data"
   ]
  },
  {
   "cell_type": "code",
   "execution_count": 2,
   "id": "complimentary-grenada",
   "metadata": {},
   "outputs": [],
   "source": [
    "import pandas as pd \n",
    "import numpy as np \n",
    "import seaborn as sns \n",
    "import matplotlib \n",
    "import matplotlib.pyplot as plt \n",
    "import os \n",
    "import sklearn\n",
    "from sklearn.model_selection import train_test_split \n",
    "from sklearn.linear_model import LinearRegression\n",
    "from sklearn.metrics import mean_squared_error, r2_score"
   ]
  },
  {
   "cell_type": "code",
   "execution_count": 3,
   "id": "adjacent-pastor",
   "metadata": {},
   "outputs": [],
   "source": [
    "# Ensure the graphs created are displayed automatically \n",
    "\n",
    "%matplotlib inline "
   ]
  },
  {
   "cell_type": "code",
   "execution_count": 4,
   "id": "entertaining-anthropology",
   "metadata": {},
   "outputs": [],
   "source": [
    "path = r'/Users/admin/Desktop/Kiva Data Analysis'"
   ]
  },
  {
   "cell_type": "code",
   "execution_count": 5,
   "id": "isolated-concord",
   "metadata": {},
   "outputs": [],
   "source": [
    "df = pd.read_csv(os.path.join(path, '02 Data', 'Original Data', 'kiva_loans.csv'))"
   ]
  },
  {
   "cell_type": "markdown",
   "id": "rotary-partner",
   "metadata": {},
   "source": [
    "## 2. Data cleaning "
   ]
  },
  {
   "cell_type": "code",
   "execution_count": 6,
   "id": "secret-saint",
   "metadata": {},
   "outputs": [
    {
     "data": {
      "text/html": [
       "<div>\n",
       "<style scoped>\n",
       "    .dataframe tbody tr th:only-of-type {\n",
       "        vertical-align: middle;\n",
       "    }\n",
       "\n",
       "    .dataframe tbody tr th {\n",
       "        vertical-align: top;\n",
       "    }\n",
       "\n",
       "    .dataframe thead th {\n",
       "        text-align: right;\n",
       "    }\n",
       "</style>\n",
       "<table border=\"1\" class=\"dataframe\">\n",
       "  <thead>\n",
       "    <tr style=\"text-align: right;\">\n",
       "      <th></th>\n",
       "      <th>id</th>\n",
       "      <th>funded_amount</th>\n",
       "      <th>loan_amount</th>\n",
       "      <th>activity</th>\n",
       "      <th>sector</th>\n",
       "      <th>use</th>\n",
       "      <th>country_code</th>\n",
       "      <th>country</th>\n",
       "      <th>region</th>\n",
       "      <th>currency</th>\n",
       "      <th>partner_id</th>\n",
       "      <th>posted_time</th>\n",
       "      <th>disbursed_time</th>\n",
       "      <th>funded_time</th>\n",
       "      <th>term_in_months</th>\n",
       "      <th>lender_count</th>\n",
       "      <th>tags</th>\n",
       "      <th>borrower_genders</th>\n",
       "      <th>repayment_interval</th>\n",
       "      <th>date</th>\n",
       "    </tr>\n",
       "  </thead>\n",
       "  <tbody>\n",
       "    <tr>\n",
       "      <th>0</th>\n",
       "      <td>653051</td>\n",
       "      <td>300.0</td>\n",
       "      <td>300.0</td>\n",
       "      <td>Fruits &amp; Vegetables</td>\n",
       "      <td>Food</td>\n",
       "      <td>To buy seasonal, fresh fruits to sell.</td>\n",
       "      <td>PK</td>\n",
       "      <td>Pakistan</td>\n",
       "      <td>Lahore</td>\n",
       "      <td>PKR</td>\n",
       "      <td>247.0</td>\n",
       "      <td>2014-01-01 06:12:39+00:00</td>\n",
       "      <td>2013-12-17 08:00:00+00:00</td>\n",
       "      <td>2014-01-02 10:06:32+00:00</td>\n",
       "      <td>12.0</td>\n",
       "      <td>12</td>\n",
       "      <td>NaN</td>\n",
       "      <td>female</td>\n",
       "      <td>irregular</td>\n",
       "      <td>2014-01-01</td>\n",
       "    </tr>\n",
       "    <tr>\n",
       "      <th>1</th>\n",
       "      <td>653053</td>\n",
       "      <td>575.0</td>\n",
       "      <td>575.0</td>\n",
       "      <td>Rickshaw</td>\n",
       "      <td>Transportation</td>\n",
       "      <td>to repair and maintain the auto rickshaw used ...</td>\n",
       "      <td>PK</td>\n",
       "      <td>Pakistan</td>\n",
       "      <td>Lahore</td>\n",
       "      <td>PKR</td>\n",
       "      <td>247.0</td>\n",
       "      <td>2014-01-01 06:51:08+00:00</td>\n",
       "      <td>2013-12-17 08:00:00+00:00</td>\n",
       "      <td>2014-01-02 09:17:23+00:00</td>\n",
       "      <td>11.0</td>\n",
       "      <td>14</td>\n",
       "      <td>NaN</td>\n",
       "      <td>female, female</td>\n",
       "      <td>irregular</td>\n",
       "      <td>2014-01-01</td>\n",
       "    </tr>\n",
       "    <tr>\n",
       "      <th>2</th>\n",
       "      <td>653068</td>\n",
       "      <td>150.0</td>\n",
       "      <td>150.0</td>\n",
       "      <td>Transportation</td>\n",
       "      <td>Transportation</td>\n",
       "      <td>To repair their old cycle-van and buy another ...</td>\n",
       "      <td>IN</td>\n",
       "      <td>India</td>\n",
       "      <td>Maynaguri</td>\n",
       "      <td>INR</td>\n",
       "      <td>334.0</td>\n",
       "      <td>2014-01-01 09:58:07+00:00</td>\n",
       "      <td>2013-12-17 08:00:00+00:00</td>\n",
       "      <td>2014-01-01 16:01:36+00:00</td>\n",
       "      <td>43.0</td>\n",
       "      <td>6</td>\n",
       "      <td>user_favorite, user_favorite</td>\n",
       "      <td>female</td>\n",
       "      <td>bullet</td>\n",
       "      <td>2014-01-01</td>\n",
       "    </tr>\n",
       "    <tr>\n",
       "      <th>3</th>\n",
       "      <td>653063</td>\n",
       "      <td>200.0</td>\n",
       "      <td>200.0</td>\n",
       "      <td>Embroidery</td>\n",
       "      <td>Arts</td>\n",
       "      <td>to purchase an embroidery machine and a variet...</td>\n",
       "      <td>PK</td>\n",
       "      <td>Pakistan</td>\n",
       "      <td>Lahore</td>\n",
       "      <td>PKR</td>\n",
       "      <td>247.0</td>\n",
       "      <td>2014-01-01 08:03:11+00:00</td>\n",
       "      <td>2013-12-24 08:00:00+00:00</td>\n",
       "      <td>2014-01-01 13:00:00+00:00</td>\n",
       "      <td>11.0</td>\n",
       "      <td>8</td>\n",
       "      <td>NaN</td>\n",
       "      <td>female</td>\n",
       "      <td>irregular</td>\n",
       "      <td>2014-01-01</td>\n",
       "    </tr>\n",
       "    <tr>\n",
       "      <th>4</th>\n",
       "      <td>653084</td>\n",
       "      <td>400.0</td>\n",
       "      <td>400.0</td>\n",
       "      <td>Milk Sales</td>\n",
       "      <td>Food</td>\n",
       "      <td>to purchase one buffalo.</td>\n",
       "      <td>PK</td>\n",
       "      <td>Pakistan</td>\n",
       "      <td>Abdul Hakeem</td>\n",
       "      <td>PKR</td>\n",
       "      <td>245.0</td>\n",
       "      <td>2014-01-01 11:53:19+00:00</td>\n",
       "      <td>2013-12-17 08:00:00+00:00</td>\n",
       "      <td>2014-01-01 19:18:51+00:00</td>\n",
       "      <td>14.0</td>\n",
       "      <td>16</td>\n",
       "      <td>NaN</td>\n",
       "      <td>female</td>\n",
       "      <td>monthly</td>\n",
       "      <td>2014-01-01</td>\n",
       "    </tr>\n",
       "  </tbody>\n",
       "</table>\n",
       "</div>"
      ],
      "text/plain": [
       "       id  funded_amount  loan_amount             activity          sector  \\\n",
       "0  653051          300.0        300.0  Fruits & Vegetables            Food   \n",
       "1  653053          575.0        575.0             Rickshaw  Transportation   \n",
       "2  653068          150.0        150.0       Transportation  Transportation   \n",
       "3  653063          200.0        200.0           Embroidery            Arts   \n",
       "4  653084          400.0        400.0           Milk Sales            Food   \n",
       "\n",
       "                                                 use country_code   country  \\\n",
       "0            To buy seasonal, fresh fruits to sell.            PK  Pakistan   \n",
       "1  to repair and maintain the auto rickshaw used ...           PK  Pakistan   \n",
       "2  To repair their old cycle-van and buy another ...           IN     India   \n",
       "3  to purchase an embroidery machine and a variet...           PK  Pakistan   \n",
       "4                           to purchase one buffalo.           PK  Pakistan   \n",
       "\n",
       "         region currency  partner_id                posted_time  \\\n",
       "0        Lahore      PKR       247.0  2014-01-01 06:12:39+00:00   \n",
       "1        Lahore      PKR       247.0  2014-01-01 06:51:08+00:00   \n",
       "2     Maynaguri      INR       334.0  2014-01-01 09:58:07+00:00   \n",
       "3        Lahore      PKR       247.0  2014-01-01 08:03:11+00:00   \n",
       "4  Abdul Hakeem      PKR       245.0  2014-01-01 11:53:19+00:00   \n",
       "\n",
       "              disbursed_time                funded_time  term_in_months  \\\n",
       "0  2013-12-17 08:00:00+00:00  2014-01-02 10:06:32+00:00            12.0   \n",
       "1  2013-12-17 08:00:00+00:00  2014-01-02 09:17:23+00:00            11.0   \n",
       "2  2013-12-17 08:00:00+00:00  2014-01-01 16:01:36+00:00            43.0   \n",
       "3  2013-12-24 08:00:00+00:00  2014-01-01 13:00:00+00:00            11.0   \n",
       "4  2013-12-17 08:00:00+00:00  2014-01-01 19:18:51+00:00            14.0   \n",
       "\n",
       "   lender_count                          tags borrower_genders  \\\n",
       "0            12                           NaN           female   \n",
       "1            14                           NaN   female, female   \n",
       "2             6  user_favorite, user_favorite           female   \n",
       "3             8                           NaN           female   \n",
       "4            16                           NaN           female   \n",
       "\n",
       "  repayment_interval        date  \n",
       "0          irregular  2014-01-01  \n",
       "1          irregular  2014-01-01  \n",
       "2             bullet  2014-01-01  \n",
       "3          irregular  2014-01-01  \n",
       "4            monthly  2014-01-01  "
      ]
     },
     "execution_count": 6,
     "metadata": {},
     "output_type": "execute_result"
    }
   ],
   "source": [
    "df.head()"
   ]
  },
  {
   "cell_type": "code",
   "execution_count": 7,
   "id": "living-sphere",
   "metadata": {},
   "outputs": [
    {
     "data": {
      "text/plain": [
       "Index(['id', 'funded_amount', 'loan_amount', 'activity', 'sector', 'use',\n",
       "       'country_code', 'country', 'region', 'currency', 'partner_id',\n",
       "       'posted_time', 'disbursed_time', 'funded_time', 'term_in_months',\n",
       "       'lender_count', 'tags', 'borrower_genders', 'repayment_interval',\n",
       "       'date'],\n",
       "      dtype='object')"
      ]
     },
     "execution_count": 7,
     "metadata": {},
     "output_type": "execute_result"
    }
   ],
   "source": [
    "df.columns"
   ]
  },
  {
   "cell_type": "code",
   "execution_count": 8,
   "id": "foster-vanilla",
   "metadata": {},
   "outputs": [
    {
     "data": {
      "text/plain": [
       "(671205, 20)"
      ]
     },
     "execution_count": 8,
     "metadata": {},
     "output_type": "execute_result"
    }
   ],
   "source": [
    "df.shape"
   ]
  },
  {
   "cell_type": "code",
   "execution_count": 9,
   "id": "solar-acting",
   "metadata": {},
   "outputs": [
    {
     "data": {
      "text/html": [
       "<div>\n",
       "<style scoped>\n",
       "    .dataframe tbody tr th:only-of-type {\n",
       "        vertical-align: middle;\n",
       "    }\n",
       "\n",
       "    .dataframe tbody tr th {\n",
       "        vertical-align: top;\n",
       "    }\n",
       "\n",
       "    .dataframe thead th {\n",
       "        text-align: right;\n",
       "    }\n",
       "</style>\n",
       "<table border=\"1\" class=\"dataframe\">\n",
       "  <thead>\n",
       "    <tr style=\"text-align: right;\">\n",
       "      <th></th>\n",
       "      <th>id</th>\n",
       "      <th>funded_amount</th>\n",
       "      <th>loan_amount</th>\n",
       "      <th>partner_id</th>\n",
       "      <th>term_in_months</th>\n",
       "      <th>lender_count</th>\n",
       "    </tr>\n",
       "  </thead>\n",
       "  <tbody>\n",
       "    <tr>\n",
       "      <th>count</th>\n",
       "      <td>6.712050e+05</td>\n",
       "      <td>671205.000000</td>\n",
       "      <td>671205.000000</td>\n",
       "      <td>657698.000000</td>\n",
       "      <td>671205.000000</td>\n",
       "      <td>671205.000000</td>\n",
       "    </tr>\n",
       "    <tr>\n",
       "      <th>mean</th>\n",
       "      <td>9.932486e+05</td>\n",
       "      <td>785.995061</td>\n",
       "      <td>842.397107</td>\n",
       "      <td>178.199616</td>\n",
       "      <td>13.739022</td>\n",
       "      <td>20.590922</td>\n",
       "    </tr>\n",
       "    <tr>\n",
       "      <th>std</th>\n",
       "      <td>1.966113e+05</td>\n",
       "      <td>1130.398941</td>\n",
       "      <td>1198.660073</td>\n",
       "      <td>94.247581</td>\n",
       "      <td>8.598919</td>\n",
       "      <td>28.459551</td>\n",
       "    </tr>\n",
       "    <tr>\n",
       "      <th>min</th>\n",
       "      <td>6.530470e+05</td>\n",
       "      <td>0.000000</td>\n",
       "      <td>25.000000</td>\n",
       "      <td>9.000000</td>\n",
       "      <td>1.000000</td>\n",
       "      <td>0.000000</td>\n",
       "    </tr>\n",
       "    <tr>\n",
       "      <th>25%</th>\n",
       "      <td>8.230720e+05</td>\n",
       "      <td>250.000000</td>\n",
       "      <td>275.000000</td>\n",
       "      <td>126.000000</td>\n",
       "      <td>8.000000</td>\n",
       "      <td>7.000000</td>\n",
       "    </tr>\n",
       "    <tr>\n",
       "      <th>50%</th>\n",
       "      <td>9.927800e+05</td>\n",
       "      <td>450.000000</td>\n",
       "      <td>500.000000</td>\n",
       "      <td>145.000000</td>\n",
       "      <td>13.000000</td>\n",
       "      <td>13.000000</td>\n",
       "    </tr>\n",
       "    <tr>\n",
       "      <th>75%</th>\n",
       "      <td>1.163653e+06</td>\n",
       "      <td>900.000000</td>\n",
       "      <td>1000.000000</td>\n",
       "      <td>204.000000</td>\n",
       "      <td>14.000000</td>\n",
       "      <td>24.000000</td>\n",
       "    </tr>\n",
       "    <tr>\n",
       "      <th>max</th>\n",
       "      <td>1.340339e+06</td>\n",
       "      <td>100000.000000</td>\n",
       "      <td>100000.000000</td>\n",
       "      <td>536.000000</td>\n",
       "      <td>158.000000</td>\n",
       "      <td>2986.000000</td>\n",
       "    </tr>\n",
       "  </tbody>\n",
       "</table>\n",
       "</div>"
      ],
      "text/plain": [
       "                 id  funded_amount    loan_amount     partner_id  \\\n",
       "count  6.712050e+05  671205.000000  671205.000000  657698.000000   \n",
       "mean   9.932486e+05     785.995061     842.397107     178.199616   \n",
       "std    1.966113e+05    1130.398941    1198.660073      94.247581   \n",
       "min    6.530470e+05       0.000000      25.000000       9.000000   \n",
       "25%    8.230720e+05     250.000000     275.000000     126.000000   \n",
       "50%    9.927800e+05     450.000000     500.000000     145.000000   \n",
       "75%    1.163653e+06     900.000000    1000.000000     204.000000   \n",
       "max    1.340339e+06  100000.000000  100000.000000     536.000000   \n",
       "\n",
       "       term_in_months   lender_count  \n",
       "count   671205.000000  671205.000000  \n",
       "mean        13.739022      20.590922  \n",
       "std          8.598919      28.459551  \n",
       "min          1.000000       0.000000  \n",
       "25%          8.000000       7.000000  \n",
       "50%         13.000000      13.000000  \n",
       "75%         14.000000      24.000000  \n",
       "max        158.000000    2986.000000  "
      ]
     },
     "execution_count": 9,
     "metadata": {},
     "output_type": "execute_result"
    }
   ],
   "source": [
    "df.describe()"
   ]
  },
  {
   "cell_type": "markdown",
   "id": "finnish-scout",
   "metadata": {},
   "source": [
    "<b><i> Missing values</b></i>"
   ]
  },
  {
   "cell_type": "code",
   "execution_count": 10,
   "id": "extended-indianapolis",
   "metadata": {},
   "outputs": [
    {
     "data": {
      "text/plain": [
       "id                         0\n",
       "funded_amount              0\n",
       "loan_amount                0\n",
       "activity                   0\n",
       "sector                     0\n",
       "use                     4232\n",
       "country_code               8\n",
       "country                    0\n",
       "region                 56800\n",
       "currency                   0\n",
       "partner_id             13507\n",
       "posted_time                0\n",
       "disbursed_time          2396\n",
       "funded_time            48331\n",
       "term_in_months             0\n",
       "lender_count               0\n",
       "tags                  171416\n",
       "borrower_genders        4221\n",
       "repayment_interval         0\n",
       "date                       0\n",
       "dtype: int64"
      ]
     },
     "execution_count": 10,
     "metadata": {},
     "output_type": "execute_result"
    }
   ],
   "source": [
    "# Check for missing values \n",
    "\n",
    "df.isnull().sum()"
   ]
  },
  {
   "cell_type": "markdown",
   "id": "driven-protocol",
   "metadata": {},
   "source": [
    "Notes: There are multiple missing values in select columns. None of them are essential to be imposed or removed at this point. In other words, leave missing values as is for now."
   ]
  },
  {
   "cell_type": "markdown",
   "id": "operating-swimming",
   "metadata": {},
   "source": [
    "<b><i> Duplicates Check</b></i> "
   ]
  },
  {
   "cell_type": "code",
   "execution_count": 11,
   "id": "seventh-update",
   "metadata": {},
   "outputs": [],
   "source": [
    "dups = df.duplicated()"
   ]
  },
  {
   "cell_type": "code",
   "execution_count": 12,
   "id": "provincial-account",
   "metadata": {},
   "outputs": [
    {
     "data": {
      "text/plain": [
       "(671205,)"
      ]
     },
     "execution_count": 12,
     "metadata": {},
     "output_type": "execute_result"
    }
   ],
   "source": [
    "dups.shape # No dups"
   ]
  },
  {
   "cell_type": "markdown",
   "id": "perceived-kentucky",
   "metadata": {},
   "source": [
    "<b><i> Extreme values checks</b></i>"
   ]
  },
  {
   "cell_type": "code",
   "execution_count": 13,
   "id": "direct-burst",
   "metadata": {
    "scrolled": false
   },
   "outputs": [
    {
     "name": "stderr",
     "output_type": "stream",
     "text": [
      "/Users/admin/opt/anaconda3/lib/python3.8/site-packages/seaborn/distributions.py:2557: FutureWarning: `distplot` is a deprecated function and will be removed in a future version. Please adapt your code to use either `displot` (a figure-level function with similar flexibility) or `histplot` (an axes-level function for histograms).\n",
      "  warnings.warn(msg, FutureWarning)\n"
     ]
    },
    {
     "data": {
      "text/plain": [
       "<AxesSubplot:xlabel='lender_count', ylabel='Density'>"
      ]
     },
     "execution_count": 13,
     "metadata": {},
     "output_type": "execute_result"
    },
    {
     "data": {
      "image/png": "[encoded data removed]",
      "text/plain": [
       "<Figure size 432x288 with 1 Axes>"
      ]
     },
     "metadata": {
      "needs_background": "light"
     },
     "output_type": "display_data"
    }
   ],
   "source": [
    "sns.distplot(df['lender_count'], bins = 25) # Shows extreme values "
   ]
  },
  {
   "cell_type": "code",
   "execution_count": 14,
   "id": "exact-municipality",
   "metadata": {},
   "outputs": [
    {
     "data": {
      "text/plain": [
       "<seaborn.axisgrid.FacetGrid at 0x7fb215de5f70>"
      ]
     },
     "execution_count": 14,
     "metadata": {},
     "output_type": "execute_result"
    },
    {
     "data": {
      "image/png": "[encoded data removed]",
      "text/plain": [
       "<Figure size 360x360 with 1 Axes>"
      ]
     },
     "metadata": {
      "needs_background": "light"
     },
     "output_type": "display_data"
    }
   ],
   "source": [
    "sns.displot(df['lender_count'], bins = 25) # Shows extreme values "
   ]
  },
  {
   "cell_type": "code",
   "execution_count": 15,
   "id": "formed-screening",
   "metadata": {},
   "outputs": [
    {
     "data": {
      "text/plain": [
       "20.590922296466804"
      ]
     },
     "execution_count": 15,
     "metadata": {},
     "output_type": "execute_result"
    }
   ],
   "source": [
    "# Check the mean \n",
    "df['lender_count'].mean()"
   ]
  },
  {
   "cell_type": "code",
   "execution_count": 16,
   "id": "cathedral-marijuana",
   "metadata": {},
   "outputs": [
    {
     "data": {
      "text/plain": [
       "13.0"
      ]
     },
     "execution_count": 16,
     "metadata": {},
     "output_type": "execute_result"
    }
   ],
   "source": [
    "# Check the median \n",
    "df['lender_count'].median()"
   ]
  },
  {
   "cell_type": "code",
   "execution_count": 17,
   "id": "certified-timing",
   "metadata": {},
   "outputs": [
    {
     "data": {
      "text/plain": [
       "2986"
      ]
     },
     "execution_count": 17,
     "metadata": {},
     "output_type": "execute_result"
    }
   ],
   "source": [
    "# Check the max \n",
    "df['lender_count'].max()"
   ]
  },
  {
   "cell_type": "code",
   "execution_count": 18,
   "id": "pediatric-better",
   "metadata": {
    "scrolled": true
   },
   "outputs": [
    {
     "data": {
      "text/plain": [
       "0"
      ]
     },
     "execution_count": 18,
     "metadata": {},
     "output_type": "execute_result"
    }
   ],
   "source": [
    "# Check the min \n",
    "df['lender_count'].min()"
   ]
  },
  {
   "cell_type": "code",
   "execution_count": 19,
   "id": "palestinian-reform",
   "metadata": {},
   "outputs": [
    {
     "data": {
      "text/html": [
       "<div>\n",
       "<style scoped>\n",
       "    .dataframe tbody tr th:only-of-type {\n",
       "        vertical-align: middle;\n",
       "    }\n",
       "\n",
       "    .dataframe tbody tr th {\n",
       "        vertical-align: top;\n",
       "    }\n",
       "\n",
       "    .dataframe thead th {\n",
       "        text-align: right;\n",
       "    }\n",
       "</style>\n",
       "<table border=\"1\" class=\"dataframe\">\n",
       "  <thead>\n",
       "    <tr style=\"text-align: right;\">\n",
       "      <th></th>\n",
       "      <th>id</th>\n",
       "      <th>funded_amount</th>\n",
       "      <th>loan_amount</th>\n",
       "      <th>partner_id</th>\n",
       "      <th>term_in_months</th>\n",
       "      <th>lender_count</th>\n",
       "    </tr>\n",
       "  </thead>\n",
       "  <tbody>\n",
       "    <tr>\n",
       "      <th>count</th>\n",
       "      <td>6.712050e+05</td>\n",
       "      <td>671205.000000</td>\n",
       "      <td>671205.000000</td>\n",
       "      <td>657698.000000</td>\n",
       "      <td>671205.000000</td>\n",
       "      <td>671205.000000</td>\n",
       "    </tr>\n",
       "    <tr>\n",
       "      <th>mean</th>\n",
       "      <td>9.932486e+05</td>\n",
       "      <td>785.995061</td>\n",
       "      <td>842.397107</td>\n",
       "      <td>178.199616</td>\n",
       "      <td>13.739022</td>\n",
       "      <td>20.590922</td>\n",
       "    </tr>\n",
       "    <tr>\n",
       "      <th>std</th>\n",
       "      <td>1.966113e+05</td>\n",
       "      <td>1130.398941</td>\n",
       "      <td>1198.660073</td>\n",
       "      <td>94.247581</td>\n",
       "      <td>8.598919</td>\n",
       "      <td>28.459551</td>\n",
       "    </tr>\n",
       "    <tr>\n",
       "      <th>min</th>\n",
       "      <td>6.530470e+05</td>\n",
       "      <td>0.000000</td>\n",
       "      <td>25.000000</td>\n",
       "      <td>9.000000</td>\n",
       "      <td>1.000000</td>\n",
       "      <td>0.000000</td>\n",
       "    </tr>\n",
       "    <tr>\n",
       "      <th>25%</th>\n",
       "      <td>8.230720e+05</td>\n",
       "      <td>250.000000</td>\n",
       "      <td>275.000000</td>\n",
       "      <td>126.000000</td>\n",
       "      <td>8.000000</td>\n",
       "      <td>7.000000</td>\n",
       "    </tr>\n",
       "    <tr>\n",
       "      <th>50%</th>\n",
       "      <td>9.927800e+05</td>\n",
       "      <td>450.000000</td>\n",
       "      <td>500.000000</td>\n",
       "      <td>145.000000</td>\n",
       "      <td>13.000000</td>\n",
       "      <td>13.000000</td>\n",
       "    </tr>\n",
       "    <tr>\n",
       "      <th>75%</th>\n",
       "      <td>1.163653e+06</td>\n",
       "      <td>900.000000</td>\n",
       "      <td>1000.000000</td>\n",
       "      <td>204.000000</td>\n",
       "      <td>14.000000</td>\n",
       "      <td>24.000000</td>\n",
       "    </tr>\n",
       "    <tr>\n",
       "      <th>max</th>\n",
       "      <td>1.340339e+06</td>\n",
       "      <td>100000.000000</td>\n",
       "      <td>100000.000000</td>\n",
       "      <td>536.000000</td>\n",
       "      <td>158.000000</td>\n",
       "      <td>2986.000000</td>\n",
       "    </tr>\n",
       "  </tbody>\n",
       "</table>\n",
       "</div>"
      ],
      "text/plain": [
       "                 id  funded_amount    loan_amount     partner_id  \\\n",
       "count  6.712050e+05  671205.000000  671205.000000  657698.000000   \n",
       "mean   9.932486e+05     785.995061     842.397107     178.199616   \n",
       "std    1.966113e+05    1130.398941    1198.660073      94.247581   \n",
       "min    6.530470e+05       0.000000      25.000000       9.000000   \n",
       "25%    8.230720e+05     250.000000     275.000000     126.000000   \n",
       "50%    9.927800e+05     450.000000     500.000000     145.000000   \n",
       "75%    1.163653e+06     900.000000    1000.000000     204.000000   \n",
       "max    1.340339e+06  100000.000000  100000.000000     536.000000   \n",
       "\n",
       "       term_in_months   lender_count  \n",
       "count   671205.000000  671205.000000  \n",
       "mean        13.739022      20.590922  \n",
       "std          8.598919      28.459551  \n",
       "min          1.000000       0.000000  \n",
       "25%          8.000000       7.000000  \n",
       "50%         13.000000      13.000000  \n",
       "75%         14.000000      24.000000  \n",
       "max        158.000000    2986.000000  "
      ]
     },
     "execution_count": 19,
     "metadata": {},
     "output_type": "execute_result"
    }
   ],
   "source": [
    "df.describe()"
   ]
  },
  {
   "cell_type": "markdown",
   "id": "second-argentina",
   "metadata": {},
   "source": [
    "Notes: <br>\n",
    "There is a wide range in the number of lenders and amount in loans in \"funded_amount\", \"loan_amount\", and \"lender_count\" columns. For instance, in the \"lender_count\" column, the range of lenders starts at 0 and ends at 2,986. In the \"funded_amount\" and \"loan_amount\" columns, the range starts at 0 (or 25 USD) and ends at 100,000 USD. \n",
    "\n",
    "It is safe to assume there are extreme values/outliers here but extreme values will not be removed at this time. \n",
    "\n",
    "Also, the data seems to suggest two things: 1) the amount given in a loan increase with the number of lenders involved in a loan, and 2) the larger the amount in loan is given, the longer the term in months the lender(s) have to pay it back."
   ]
  },
  {
   "cell_type": "markdown",
   "id": "dedicated-appraisal",
   "metadata": {},
   "source": [
    "## 3. Data prep for regression analysis"
   ]
  },
  {
   "cell_type": "code",
   "execution_count": 20,
   "id": "sacred-award",
   "metadata": {},
   "outputs": [
    {
     "data": {
      "image/png": "[encoded data removed]",
      "text/plain": [
       "<Figure size 432x288 with 1 Axes>"
      ]
     },
     "metadata": {
      "needs_background": "light"
     },
     "output_type": "display_data"
    }
   ],
   "source": [
    "# Create a scatterplot using matplotlib for another look at how the chosen variables plot against each other. \n",
    "\n",
    "df.plot(x = 'loan_amount', y = 'lender_count', style = 'o') # the style option creates a scatterplot; without it, we only have lines\n",
    "plt.title('Kiva Loan-Lender Relationships')\n",
    "plt.xlabel('Loan Amount')\n",
    "plt.ylabel('Lenders')\n",
    "plt.show()"
   ]
  },
  {
   "cell_type": "markdown",
   "id": "threaded-costs",
   "metadata": {},
   "source": [
    "#### There is an extreme outlier here; there's a loan amount of 100,000 USD given to  a group of 3,000 lenders. The rest of the data points are boxed in loan amounts under 55,000 USD and no more than 2,000 lenders. "
   ]
  },
  {
   "cell_type": "code",
   "execution_count": 21,
   "id": "fitted-detection",
   "metadata": {},
   "outputs": [],
   "source": [
    "# Reshape the variables into NumPy arrays and put them into separate objects\n",
    "\n",
    "X = df['loan_amount'].values.reshape(-1,1)\n",
    "y = df['lender_count'].values.reshape(-1,1)"
   ]
  },
  {
   "cell_type": "code",
   "execution_count": 22,
   "id": "scientific-macedonia",
   "metadata": {},
   "outputs": [
    {
     "data": {
      "text/plain": [
       "array([[300.],\n",
       "       [575.],\n",
       "       [150.],\n",
       "       ...,\n",
       "       [ 25.],\n",
       "       [ 25.],\n",
       "       [ 25.]])"
      ]
     },
     "execution_count": 22,
     "metadata": {},
     "output_type": "execute_result"
    }
   ],
   "source": [
    "X"
   ]
  },
  {
   "cell_type": "code",
   "execution_count": 23,
   "id": "instant-electron",
   "metadata": {},
   "outputs": [
    {
     "data": {
      "text/plain": [
       "array([[12],\n",
       "       [14],\n",
       "       [ 6],\n",
       "       ...,\n",
       "       [ 0],\n",
       "       [ 0],\n",
       "       [ 0]])"
      ]
     },
     "execution_count": 23,
     "metadata": {},
     "output_type": "execute_result"
    }
   ],
   "source": [
    "y"
   ]
  },
  {
   "cell_type": "code",
   "execution_count": 24,
   "id": "behind-trademark",
   "metadata": {},
   "outputs": [],
   "source": [
    "# Split data into a training set and a test set. \n",
    "\n",
    "X_train, X_test, y_train, y_test = train_test_split(X, y, test_size = 0.3, random_state = 0)"
   ]
  },
  {
   "cell_type": "markdown",
   "id": "renewable-warrior",
   "metadata": {},
   "source": [
    "## 4. Regression analysis"
   ]
  },
  {
   "cell_type": "code",
   "execution_count": 25,
   "id": "toxic-throat",
   "metadata": {},
   "outputs": [],
   "source": [
    "# Create a regression object \n",
    "\n",
    "regression = LinearRegression() # This is the regression object, which will be fit onto the training set"
   ]
  },
  {
   "cell_type": "code",
   "execution_count": 26,
   "id": "chemical-county",
   "metadata": {},
   "outputs": [
    {
     "data": {
      "text/plain": [
       "LinearRegression()"
      ]
     },
     "execution_count": 26,
     "metadata": {},
     "output_type": "execute_result"
    }
   ],
   "source": [
    "# Fit the regression object onto the training set \n",
    "\n",
    "regression.fit(X_train, y_train)"
   ]
  },
  {
   "cell_type": "code",
   "execution_count": 27,
   "id": "august-expert",
   "metadata": {},
   "outputs": [],
   "source": [
    "# Predict the values of y using X \n",
    "\n",
    "y_predicted = regression.predict(X_test)"
   ]
  },
  {
   "cell_type": "code",
   "execution_count": 28,
   "id": "lonely-coach",
   "metadata": {},
   "outputs": [
    {
     "data": {
      "image/png": "[encoded data removed]",
      "text/plain": [
       "<Figure size 432x288 with 1 Axes>"
      ]
     },
     "metadata": {
      "needs_background": "light"
     },
     "output_type": "display_data"
    }
   ],
   "source": [
    "# Create a plot that shows the regression line from the model on the test set \n",
    "\n",
    "plot_test = plt \n",
    "plot_test.scatter(X_test, y_test, color='gray', s=15)\n",
    "plot_test.plot(X_test, y_predicted, color='red', linewidth=3)\n",
    "plot_test.title('Kiva Loan-Lender Relationships (Test Set)')\n",
    "plot_test.xlabel('Loan Amount')\n",
    "plot_test.ylabel('Lenders')\n",
    "plot_test.show()"
   ]
  },
  {
   "cell_type": "code",
   "execution_count": 29,
   "id": "cardiovascular-cement",
   "metadata": {},
   "outputs": [],
   "source": [
    "# Create objects that contain the model summary statistics\n",
    "\n",
    "rmse = mean_squared_error(y_test, y_predicted) # This is the mean squared error \n",
    "r2 = r2_score(y_test, y_predicted) # This is the R2 score "
   ]
  },
  {
   "cell_type": "code",
   "execution_count": 30,
   "id": "environmental-moore",
   "metadata": {},
   "outputs": [
    {
     "name": "stdout",
     "output_type": "stream",
     "text": [
      "Slope: [[0.01904916]]\n",
      "Mean squared error: 302.2593558708953\n",
      "R2 score: 0.6375195531709608\n"
     ]
    }
   ],
   "source": [
    "# Print the model summary statistics\n",
    "# This is where the performance of the model is evaluated \n",
    "\n",
    "print('Slope:', regression.coef_)\n",
    "print('Mean squared error:', rmse)\n",
    "print('R2 score:', r2)"
   ]
  },
  {
   "cell_type": "code",
   "execution_count": 31,
   "id": "civic-branch",
   "metadata": {},
   "outputs": [
    {
     "data": {
      "text/plain": [
       "array([[ 8.85095276],\n",
       "       [19.80421934],\n",
       "       [10.27963971],\n",
       "       ...,\n",
       "       [10.75586869],\n",
       "       [11.70832665],\n",
       "       [ 8.85095276]])"
      ]
     },
     "execution_count": 31,
     "metadata": {},
     "output_type": "execute_result"
    }
   ],
   "source": [
    "y_predicted"
   ]
  },
  {
   "cell_type": "code",
   "execution_count": 32,
   "id": "narrow-brunei",
   "metadata": {},
   "outputs": [],
   "source": [
    "# Create a dataframe comparing the actual and predicted values of y \n",
    "\n",
    "data = pd.DataFrame({'Actual': y_test.flatten(), 'Predicted': y_predicted.flatten()})"
   ]
  },
  {
   "cell_type": "code",
   "execution_count": 33,
   "id": "digital-scott",
   "metadata": {},
   "outputs": [
    {
     "data": {
      "text/html": [
       "<div>\n",
       "<style scoped>\n",
       "    .dataframe tbody tr th:only-of-type {\n",
       "        vertical-align: middle;\n",
       "    }\n",
       "\n",
       "    .dataframe tbody tr th {\n",
       "        vertical-align: top;\n",
       "    }\n",
       "\n",
       "    .dataframe thead th {\n",
       "        text-align: right;\n",
       "    }\n",
       "</style>\n",
       "<table border=\"1\" class=\"dataframe\">\n",
       "  <thead>\n",
       "    <tr style=\"text-align: right;\">\n",
       "      <th></th>\n",
       "      <th>Actual</th>\n",
       "      <th>Predicted</th>\n",
       "    </tr>\n",
       "  </thead>\n",
       "  <tbody>\n",
       "    <tr>\n",
       "      <th>0</th>\n",
       "      <td>9</td>\n",
       "      <td>8.850953</td>\n",
       "    </tr>\n",
       "    <tr>\n",
       "      <th>1</th>\n",
       "      <td>24</td>\n",
       "      <td>19.804219</td>\n",
       "    </tr>\n",
       "    <tr>\n",
       "      <th>2</th>\n",
       "      <td>7</td>\n",
       "      <td>10.279640</td>\n",
       "    </tr>\n",
       "    <tr>\n",
       "      <th>3</th>\n",
       "      <td>18</td>\n",
       "      <td>14.089472</td>\n",
       "    </tr>\n",
       "    <tr>\n",
       "      <th>4</th>\n",
       "      <td>26</td>\n",
       "      <td>23.137822</td>\n",
       "    </tr>\n",
       "    <tr>\n",
       "      <th>5</th>\n",
       "      <td>27</td>\n",
       "      <td>20.280448</td>\n",
       "    </tr>\n",
       "    <tr>\n",
       "      <th>6</th>\n",
       "      <td>13</td>\n",
       "      <td>11.708327</td>\n",
       "    </tr>\n",
       "    <tr>\n",
       "      <th>7</th>\n",
       "      <td>9</td>\n",
       "      <td>12.660785</td>\n",
       "    </tr>\n",
       "    <tr>\n",
       "      <th>8</th>\n",
       "      <td>1</td>\n",
       "      <td>10.755869</td>\n",
       "    </tr>\n",
       "    <tr>\n",
       "      <th>9</th>\n",
       "      <td>3</td>\n",
       "      <td>6.946037</td>\n",
       "    </tr>\n",
       "    <tr>\n",
       "      <th>10</th>\n",
       "      <td>7</td>\n",
       "      <td>9.327182</td>\n",
       "    </tr>\n",
       "    <tr>\n",
       "      <th>11</th>\n",
       "      <td>19</td>\n",
       "      <td>71.236949</td>\n",
       "    </tr>\n",
       "    <tr>\n",
       "      <th>12</th>\n",
       "      <td>9</td>\n",
       "      <td>9.803411</td>\n",
       "    </tr>\n",
       "    <tr>\n",
       "      <th>13</th>\n",
       "      <td>23</td>\n",
       "      <td>20.280448</td>\n",
       "    </tr>\n",
       "    <tr>\n",
       "      <th>14</th>\n",
       "      <td>22</td>\n",
       "      <td>15.041930</td>\n",
       "    </tr>\n",
       "    <tr>\n",
       "      <th>15</th>\n",
       "      <td>10</td>\n",
       "      <td>9.327182</td>\n",
       "    </tr>\n",
       "    <tr>\n",
       "      <th>16</th>\n",
       "      <td>7</td>\n",
       "      <td>15.041930</td>\n",
       "    </tr>\n",
       "    <tr>\n",
       "      <th>17</th>\n",
       "      <td>9</td>\n",
       "      <td>12.184556</td>\n",
       "    </tr>\n",
       "    <tr>\n",
       "      <th>18</th>\n",
       "      <td>6</td>\n",
       "      <td>8.374724</td>\n",
       "    </tr>\n",
       "    <tr>\n",
       "      <th>19</th>\n",
       "      <td>18</td>\n",
       "      <td>13.613243</td>\n",
       "    </tr>\n",
       "    <tr>\n",
       "      <th>20</th>\n",
       "      <td>18</td>\n",
       "      <td>13.613243</td>\n",
       "    </tr>\n",
       "    <tr>\n",
       "      <th>21</th>\n",
       "      <td>47</td>\n",
       "      <td>37.900921</td>\n",
       "    </tr>\n",
       "    <tr>\n",
       "      <th>22</th>\n",
       "      <td>2</td>\n",
       "      <td>10.755869</td>\n",
       "    </tr>\n",
       "    <tr>\n",
       "      <th>23</th>\n",
       "      <td>12</td>\n",
       "      <td>14.089472</td>\n",
       "    </tr>\n",
       "    <tr>\n",
       "      <th>24</th>\n",
       "      <td>8</td>\n",
       "      <td>8.374724</td>\n",
       "    </tr>\n",
       "  </tbody>\n",
       "</table>\n",
       "</div>"
      ],
      "text/plain": [
       "    Actual  Predicted\n",
       "0        9   8.850953\n",
       "1       24  19.804219\n",
       "2        7  10.279640\n",
       "3       18  14.089472\n",
       "4       26  23.137822\n",
       "5       27  20.280448\n",
       "6       13  11.708327\n",
       "7        9  12.660785\n",
       "8        1  10.755869\n",
       "9        3   6.946037\n",
       "10       7   9.327182\n",
       "11      19  71.236949\n",
       "12       9   9.803411\n",
       "13      23  20.280448\n",
       "14      22  15.041930\n",
       "15      10   9.327182\n",
       "16       7  15.041930\n",
       "17       9  12.184556\n",
       "18       6   8.374724\n",
       "19      18  13.613243\n",
       "20      18  13.613243\n",
       "21      47  37.900921\n",
       "22       2  10.755869\n",
       "23      12  14.089472\n",
       "24       8   8.374724"
      ]
     },
     "execution_count": 33,
     "metadata": {},
     "output_type": "execute_result"
    }
   ],
   "source": [
    "data.head(25)"
   ]
  },
  {
   "cell_type": "markdown",
   "id": "positive-authority",
   "metadata": {},
   "source": [
    "<b><i>Compare how the regression fits the training set</b></i> "
   ]
  },
  {
   "cell_type": "code",
   "execution_count": 34,
   "id": "narrow-blond",
   "metadata": {},
   "outputs": [],
   "source": [
    "# Predict \n",
    "\n",
    "y_predicted_train = regression.predict(X_train) # This is predicting X-train"
   ]
  },
  {
   "cell_type": "code",
   "execution_count": 35,
   "id": "pediatric-belarus",
   "metadata": {},
   "outputs": [],
   "source": [
    "rmse = mean_squared_error(y_train, y_predicted_train)\n",
    "r2 = r2_score(y_train, y_predicted_train)"
   ]
  },
  {
   "cell_type": "code",
   "execution_count": 36,
   "id": "impressive-riverside",
   "metadata": {
    "scrolled": true
   },
   "outputs": [
    {
     "name": "stdout",
     "output_type": "stream",
     "text": [
      "Slope: [[0.01904916]]\n",
      "Mean squared error: 289.4285738628776\n",
      "R2 score: 0.6380756489718884\n"
     ]
    }
   ],
   "source": [
    "# Print results \n",
    "print('Slope:', regression.coef_)\n",
    "print('Mean squared error:', rmse)\n",
    "print('R2 score:', r2)"
   ]
  },
  {
   "cell_type": "code",
   "execution_count": 37,
   "id": "demanding-petersburg",
   "metadata": {},
   "outputs": [
    {
     "data": {
      "image/png": "[encoded data removed]",
      "text/plain": [
       "<Figure size 432x288 with 1 Axes>"
      ]
     },
     "metadata": {
      "needs_background": "light"
     },
     "output_type": "display_data"
    }
   ],
   "source": [
    "# Visualizing the training set results \n",
    "\n",
    "plot_test = plt \n",
    "plot_test.scatter(X_train, y_train, color='green', s=15)\n",
    "plot_test.plot(X_train, y_predicted_train, color='red', linewidth=3)\n",
    "plot_test.title('Kiva Loan-Lender Relationships (Test Set)')\n",
    "plot_test.xlabel('Loan Amount')\n",
    "plot_test.ylabel('Lenders')\n",
    "plot_test.show()"
   ]
  },
  {
   "cell_type": "markdown",
   "id": "ranking-transition",
   "metadata": {},
   "source": [
    "#### <i> Bonus: performance improvement after removing outliers </i>"
   ]
  },
  {
   "cell_type": "code",
   "execution_count": 38,
   "id": "english-burning",
   "metadata": {},
   "outputs": [],
   "source": [
    "# Clean the extreme values from the \"lender_count\" variable observed during the consistency checks\n",
    "\n",
    "df_test = df[df['lender_count'] <= 2000] # less than or equal to 2,000 lenders. "
   ]
  },
  {
   "cell_type": "code",
   "execution_count": 39,
   "id": "scheduled-equipment",
   "metadata": {},
   "outputs": [
    {
     "data": {
      "image/png": "[encoded data removed]",
      "text/plain": [
       "<Figure size 432x288 with 1 Axes>"
      ]
     },
     "metadata": {
      "needs_background": "light"
     },
     "output_type": "display_data"
    }
   ],
   "source": [
    "# See how the scatterplot looks without outliers \n",
    "\n",
    "df_test.plot(x = 'loan_amount', y = 'lender_count', style = 'o')\n",
    "plt.title('Kiva Loan-Lender Relationships')\n",
    "plt.xlabel('Loan Amount')\n",
    "plt.ylabel('Lenders')\n",
    "plt.show()"
   ]
  },
  {
   "cell_type": "code",
   "execution_count": 40,
   "id": "matched-programmer",
   "metadata": {},
   "outputs": [],
   "source": [
    "# Reshape again\n",
    "\n",
    "X_2 = df_test['loan_amount'].values.reshape(-1,1)\n",
    "y_2 = df_test['lender_count'].values.reshape(-1,1)"
   ]
  },
  {
   "cell_type": "code",
   "execution_count": 41,
   "id": "oriented-handling",
   "metadata": {},
   "outputs": [],
   "source": [
    "X_train_2, X_test_2, y_train_2, y_test_2 = train_test_split(X_2, y_2, test_size=0.3, random_state=0)"
   ]
  },
  {
   "cell_type": "code",
   "execution_count": 42,
   "id": "foster-recommendation",
   "metadata": {},
   "outputs": [
    {
     "data": {
      "text/plain": [
       "LinearRegression()"
      ]
     },
     "execution_count": 42,
     "metadata": {},
     "output_type": "execute_result"
    }
   ],
   "source": [
    "# Run and fit the regression \n",
    "\n",
    "regression = LinearRegression()\n",
    "regression.fit(X_train_2, y_train_2)"
   ]
  },
  {
   "cell_type": "code",
   "execution_count": 43,
   "id": "automated-intelligence",
   "metadata": {},
   "outputs": [],
   "source": [
    "# Predict\n",
    "\n",
    "y_predicted_2 = regression.predict(X_test_2)"
   ]
  },
  {
   "cell_type": "code",
   "execution_count": 44,
   "id": "inner-paintball",
   "metadata": {},
   "outputs": [],
   "source": [
    "rmse = mean_squared_error(y_test_2, y_predicted_2)\n",
    "r2 = r2_score(y_test_2, y_predicted_2)"
   ]
  },
  {
   "cell_type": "code",
   "execution_count": 45,
   "id": "ruled-florence",
   "metadata": {},
   "outputs": [
    {
     "name": "stdout",
     "output_type": "stream",
     "text": [
      "Slope: [[0.01898715]]\n",
      "Mean squared error: 292.4372021162033\n",
      "R2 Score: 0.6266707895680415\n"
     ]
    }
   ],
   "source": [
    "# Print results \n",
    "\n",
    "print('Slope:', regression.coef_)\n",
    "print('Mean squared error:', rmse)\n",
    "print('R2 Score:', r2)"
   ]
  },
  {
   "cell_type": "code",
   "execution_count": 46,
   "id": "fifteen-candidate",
   "metadata": {},
   "outputs": [
    {
     "data": {
      "image/png": "[encoded data removed]",
      "text/plain": [
       "<Figure size 432x288 with 1 Axes>"
      ]
     },
     "metadata": {
      "needs_background": "light"
     },
     "output_type": "display_data"
    }
   ],
   "source": [
    "# Visualize test set results \n",
    "\n",
    "plot_test = plt \n",
    "plot_test.scatter(X_test_2, y_test_2, color='gray', s = 15)\n",
    "plot_test.plot(X_train_2, regression.predict(X_train_2), color='red', linewidth =3)\n",
    "plot_test.title('Kiva Loan-Lender Relationships (Test Set)')\n",
    "plot_test.xlabel('Loan Amount')\n",
    "plot_test.ylabel('Lenders')\n",
    "plot_test.show()"
   ]
  },
  {
   "cell_type": "markdown",
   "id": "overall-birthday",
   "metadata": {},
   "source": [
    "## 5. Results"
   ]
  },
  {
   "cell_type": "markdown",
   "id": "italian-rolling",
   "metadata": {},
   "source": [
    "The R2 Score for both models are weak (at 0.6). Removing the outlier did not scientifically improve results. There are multiple data points outside the linear line in both models which suggest that a liner regression is not a viable method to predict Loan-Lender relationships and that there are other factors at play here. "
   ]
  },
  {
   "cell_type": "code",
   "execution_count": 49,
   "id": "failing-ghost",
   "metadata": {},
   "outputs": [],
   "source": [
    "# Export df \n",
    "df.to_csv(os.path.join(path, '02 Data', 'Prepared Data', 'kiva_loans_cleaned.csv'))"
   ]
  }
 ],
 "metadata": {
  "kernelspec": {
   "display_name": "Python 3",
   "language": "python",
   "name": "python3"
  },
  "language_info": {
   "codemirror_mode": {
    "name": "ipython",
    "version": 3
   },
   "file_extension": ".py",
   "mimetype": "text/x-python",
   "name": "python",
   "nbconvert_exporter": "python",
   "pygments_lexer": "ipython3",
   "version": "3.8.5"
  }
 },
 "nbformat": 4,
 "nbformat_minor": 5
}
